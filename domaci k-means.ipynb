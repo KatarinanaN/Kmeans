{
 "cells": [
  {
   "cell_type": "markdown",
   "id": "4ae52a87",
   "metadata": {},
   "source": [
    "<h1> DOMACI </h1>\n",
    "\n",
    "You are a store manager. Through membership cards, you have some basic data (see\n",
    "Store_Customers.csv) about your customers like Customer ID, Age, Gender, Annual Income, and\n",
    "Spending score (this is something you assign to the customer based on your defined parameters like\n",
    "customer behavior and purchasing data).\n",
    "You want to understand the typical characteristics of the customers who can quickly converge so that\n",
    "the sense can be given to the marketing team and plan the strategy accordingly. What insights can you\n",
    "provide about different groups of customers?\n",
    "Hint: Look at the data for potential data treatment steps before building your model."
   ]
  },
  {
   "cell_type": "code",
   "execution_count": null,
   "id": "82ef8194",
   "metadata": {},
   "outputs": [],
   "source": []
  }
 ],
 "metadata": {
  "kernelspec": {
   "display_name": "Python 3 (ipykernel)",
   "language": "python",
   "name": "python3"
  },
  "language_info": {
   "codemirror_mode": {
    "name": "ipython",
    "version": 3
   },
   "file_extension": ".py",
   "mimetype": "text/x-python",
   "name": "python",
   "nbconvert_exporter": "python",
   "pygments_lexer": "ipython3",
   "version": "3.9.13"
  }
 },
 "nbformat": 4,
 "nbformat_minor": 5
}
